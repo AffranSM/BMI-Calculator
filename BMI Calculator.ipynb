{
 "cells": [
  {
   "cell_type": "markdown",
   "id": "b3f9a2d7-6e5f-4b17-9594-3494c177571c",
   "metadata": {},
   "source": [
    "# BMI CALCULATOR"
   ]
  },
  {
   "cell_type": "code",
   "execution_count": 29,
   "id": "e202dac7-e73c-4ad4-a781-500876821844",
   "metadata": {},
   "outputs": [
    {
     "name": "stdin",
     "output_type": "stream",
     "text": [
      "Enter your name:  Afran\n",
      "Enter your weight in kg:  50\n",
      "Enter your height in m:  1.75\n"
     ]
    },
    {
     "name": "stdout",
     "output_type": "stream",
     "text": [
      "BMI =  16.3265306122449\n",
      "Afran, You are underwight.\n"
     ]
    }
   ],
   "source": [
    "name = input(\"Enter your name: \")\n",
    "\n",
    "weight = float(input(\"Enter your weight in kg: \"))\n",
    "\n",
    "height = float(input(\"Enter your height in m: \"))\n",
    "\n",
    "BMI = (weight) / (height * height)\n",
    "\n",
    "print(\"BMI = \", BMI)\n",
    "\n",
    "if BMI > 0:\n",
    "    if (BMI<18.5):\n",
    "        print(name + \", You are underwight.\")\n",
    "    elif (BMI<=24.9):\n",
    "        print(name + \", You are normal weight\")\n",
    "    elif (BMI<=29.9):\n",
    "        print(name +  \", You are overweight\")\n",
    "    elif (BMI<=34.9):\n",
    "        print(name + \", You are obese\")\n",
    "    elif (BMI<=39.9):\n",
    "        print(name + \", You are severely obese\")\n",
    "    else:\n",
    "        print(name + \", You are morbidly obese\")\n",
    "else:\n",
    "    print(\"Enter valid input\")\n",
    "        "
   ]
  }
 ],
 "metadata": {
  "kernelspec": {
   "display_name": "Python 3 (ipykernel)",
   "language": "python",
   "name": "python3"
  },
  "language_info": {
   "codemirror_mode": {
    "name": "ipython",
    "version": 3
   },
   "file_extension": ".py",
   "mimetype": "text/x-python",
   "name": "python",
   "nbconvert_exporter": "python",
   "pygments_lexer": "ipython3",
   "version": "3.12.3"
  }
 },
 "nbformat": 4,
 "nbformat_minor": 5
}
